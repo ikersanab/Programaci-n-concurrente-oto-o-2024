{
  "cells": [
    {
      "cell_type": "markdown",
      "metadata": {
        "colab_type": "text",
        "id": "view-in-github"
      },
      "source": [
        "<a href=\"https://colab.research.google.com/github/robertoarturomc/ProgramacionConcurrente/blob/main/13_Multithreading_en_Python.ipynb\" target=\"_parent\"><img src=\"https://colab.research.google.com/assets/colab-badge.svg\" alt=\"Open In Colab\"/></a>"
      ]
    },
    {
      "cell_type": "markdown",
      "metadata": {
        "id": "8UQAJS17EEaI"
      },
      "source": [
        "### Programación Concurrente\n",
        "## 13. Multithreading en Python"
      ]
    },
    {
      "cell_type": "markdown",
      "metadata": {
        "id": "87C-sVN2vRYB"
      },
      "source": [
        "Un **proceso** es una instancia de un programa informático que se está ejecutando\n",
        "\n",
        "Un **hilo** (o hebra; *thread* en Inglés) es una entidad dentro de un proceso que se puede programar para su ejecución. Además, es la unidad de procesamiento más pequeña que se puede realizar en un SO (sistema operativo). En palabras simples, un hilo es una secuencia de instrucciones dentro de un programa que se puede ejecutar independientemente de otro código.\n",
        "\n",
        "\n",
        "![Hilos](https://media.geeksforgeeks.org/wp-content/uploads/20230824111450/multithreading-python-21.png)\n",
        "\n"
      ]
    },
    {
      "cell_type": "markdown",
      "metadata": {
        "id": "Z9mMQhvYxBkz"
      },
      "source": [
        "\n",
        "Cada hilo contiene su propio conjunto de registros y variables locales.\n",
        "Todos los hilos de un proceso comparten variables globales y el código del programa.\n",
        "\n",
        "Un procesador puede ejecutar varios subprocesos simultáneamente. En una CPU simple de un solo núcleo, esto se logra mediante cambios frecuentes entre subprocesos.\n",
        "\n",
        "En Python, esto se puede realizar mediante la librería *threading*."
      ]
    },
    {
      "cell_type": "markdown",
      "metadata": {
        "id": "0fo943F2xDqi"
      },
      "source": [
        "1. Importo la Librería"
      ]
    },
    {
      "cell_type": "code",
      "execution_count": 2,
      "metadata": {
        "id": "xkx1tjdTUPCF"
      },
      "outputs": [],
      "source": [
        "import threading\n",
        "import numpy as np"
      ]
    },
    {
      "cell_type": "markdown",
      "metadata": {
        "id": "NbODnFvCU3H-"
      },
      "source": [
        "2. Crea Hilos\n",
        "\n",
        "Para crear un nuevo hilo, creamos un objeto de la clase **Thread**. Este toma '*target*' y '*args*' como parámetros. El *target* es la función que ejecutará el hilo, mientras que los *args* son los argumentos que se pasarán a la función *target*.\n",
        "\n",
        "\n",
        "```\n",
        "t1 = threading.Thread(target, args)\n",
        "t2 = threading.Thread(target, args)\n",
        "```\n",
        "\n"
      ]
    },
    {
      "cell_type": "markdown",
      "metadata": {
        "id": "-Q-AB2JKxmf_"
      },
      "source": [
        "3. Iniciar un hilo\n",
        "\n",
        "Para iniciar un hilo, utilizamos el método start() de la clase Thread.\n",
        "\n",
        "\n",
        "```\n",
        "t1.start()\n",
        "t2.start()\n",
        "```\n",
        "\n"
      ]
    },
    {
      "cell_type": "markdown",
      "metadata": {
        "id": "iMHC5I4GxwJO"
      },
      "source": [
        "4. Finalizar la ejecución del hilo\n",
        "\n",
        "Mientras no finalice un hilo, este continúa ejecutándose. Para detenerlo, utilizamos el método .join()\n",
        "\n",
        "\n",
        "```\n",
        "t1.join()\n",
        "t2.join()\n",
        "```\n",
        "\n"
      ]
    },
    {
      "cell_type": "markdown",
      "metadata": {
        "id": "xoBHRjj5ywGv"
      },
      "source": [
        "Ejemplo:\n",
        "\n",
        "Vamos a ejecutar un Programa básico: la suma y la resta de dos valores numéricos. Puesto que cada función es independiente de la otra, no debería haber problema entre ellas. Es más, vamos a realizarlo de manera Concurrente, mediante multi-hilos."
      ]
    },
    {
      "cell_type": "code",
      "execution_count": 3,
      "metadata": {
        "colab": {
          "base_uri": "https://localhost:8080/"
        },
        "id": "zoAj1qmeyBP-",
        "outputId": "f5cc4676-5339-4805-f6b6-255644c133ea"
      },
      "outputs": [
        {
          "name": "stdout",
          "output_type": "stream",
          "text": [
            "La suma es:  14\n",
            "La resta es:  6\n"
          ]
        }
      ],
      "source": [
        "\n",
        "def add(a, b):\n",
        "    print(\"La suma es: \", a + b)\n",
        "\n",
        "\n",
        "def sub(a, b):\n",
        "   print(\"La resta es: \", a - b)\n",
        "\n",
        "t1 = threading.Thread(target=add, args=(10,4))\n",
        "t2 = threading.Thread(target=sub, args=(10,4))\n",
        "\n",
        "t1.start()\n",
        "t2.start()\n",
        "\n",
        "t1.join()\n",
        "t2.join()"
      ]
    },
    {
      "cell_type": "markdown",
      "metadata": {
        "id": "nhZPXIIf2Ura"
      },
      "source": [
        "Ejercicio (se carga en Blackboard):\n",
        "\n",
        "1. Define dos variables, a y b. Dales el valor numérico que tú quieras.\n",
        "\n",
        "2. Crea tres funciones en Python.\n",
        "- La primera va a calcular el logaritmo natural de a+b y va a imprimir el resultado.\n",
        "- La segunda va a calcular el valor absoluto a-b y va a imprimir el resultado.\n",
        "- La tercera va a calcular a elevado a la b potencia y va a imprimir el resultado.\n",
        "\n",
        "2. Corre las tres funciones de manera concurrente, usando multi-hilos.\n",
        "\n",
        "3. Ejecuta nuevamente las tres funciones de manera concurrente. Esta vez, juega con el parámetro _timeout_ del método `.join`. ¿Observas algo raro? Describe qué viste y a qué crees que se deba."
      ]
    },
    {
      "cell_type": "markdown",
      "metadata": {},
      "source": [
        "## Ejercicio:"
      ]
    },
    {
      "cell_type": "code",
      "execution_count": 29,
      "metadata": {
        "colab": {
          "base_uri": "https://localhost:8080/"
        },
        "id": "G60dAfSz0F-a",
        "outputId": "2f28ebce-3207-4543-dfb8-8a614b152eb7"
      },
      "outputs": [
        {
          "name": "stdout",
          "output_type": "stream",
          "text": [
            "Log de la sum es: La resta es:  6\n",
            " 2.6390573296152584\n",
            "La potencia es:  10000\n"
          ]
        }
      ],
      "source": [
        "def log_sum(a, b):\n",
        "    print(\"Log de la sum es: \", np.log(a+b))\n",
        "\n",
        "def resta_abs(a, b):\n",
        "   print(\"La resta es: \", abs(a-b))\n",
        "\n",
        "def potencia(a, b):\n",
        "  print(\"La potencia es: \", pow(a,b))\n",
        "\n",
        "\n",
        "t1 = threading.Thread(target=log_sum, args=(10,4))\n",
        "t2 = threading.Thread(target=resta_abs, args=(10,4))\n",
        "t3 = threading.Thread(target=potencia, args=(10,4))\n",
        "\n",
        "t1.start()\n",
        "t2.start()\n",
        "t3.start()\n",
        "\n",
        "t1.join(timeout=0.0000000000001)\n",
        "t2.join(timeout=0.0000000000001)\n",
        "t3.join(timeout=0.000000000000000000000001)"
      ]
    },
    {
      "cell_type": "markdown",
      "metadata": {},
      "source": [
        "Jugando con el parámetro de timeout pude observar que la salida del código no era constante, es decir, dentro de muchas ejecuciones, algunas de estas se ejecutaban en distinto orden o no se ejecutaban de manera correcta, esto se debe a que el parámetro timeout de la función join establece un tiempo máximo de espera a otro hilo para comenzar a ejecutarse, lo que hizo que en las raras ocasiones donde una función tardaba más de lo que el parámetro tenía establecido, el siguiente hilo se comenzara a procesar y entonces la salida se viera modificada."
      ]
    }
  ],
  "metadata": {
    "colab": {
      "include_colab_link": true,
      "provenance": []
    },
    "kernelspec": {
      "display_name": "Python 3",
      "name": "python3"
    },
    "language_info": {
      "codemirror_mode": {
        "name": "ipython",
        "version": 3
      },
      "file_extension": ".py",
      "mimetype": "text/x-python",
      "name": "python",
      "nbconvert_exporter": "python",
      "pygments_lexer": "ipython3",
      "version": "3.9.5"
    }
  },
  "nbformat": 4,
  "nbformat_minor": 0
}
