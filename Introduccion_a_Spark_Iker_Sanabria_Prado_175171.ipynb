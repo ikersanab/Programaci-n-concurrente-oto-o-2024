{
  "cells": [
    {
      "cell_type": "markdown",
      "metadata": {
        "id": "8UQAJS17EEaI"
      },
      "source": [
        "### Programación Concurrente\n",
        "## 21. Introducción a Spark\n",
        "\n",
        "Spark es la herramienta, dentro del ecosistema de Hadoop, que permite trabajar con Cómputo Paralelo y Distribuido.\n",
        "\n",
        "Para ello, un ambiente de Spark necesita contar con los siguientes elementos.\n",
        "\n",
        "\n",
        "![Hilos](https://d39kqat1wpn1o5.cloudfront.net/app/uploads/2019/10/spark-architecture-1024x542.png)\n",
        "\n",
        "- El Master Node contiene el Drive: distribuye y asigna tareas a los Workers.\n",
        "- Los Worker Nodes ejecutan las tareas.\n",
        "\n",
        "(Nota: estos elementos son Procesos al fin y al cabo, entonces pueden ser ejecutados en una sola computadora, si trabajamos de manera local).\n",
        "\n",
        "- El Cluster Manager administra los recursos, para que las tareas puedan ser completados.\n",
        "\n"
      ]
    },
    {
      "cell_type": "markdown",
      "source": [
        "### Particiones\n",
        "\n",
        "Para poder paralelizar tareas, nuestros DataFrames de Spark se guardan con particiones: es decir, un grupo de hileras serán procesados un Worker nodo, otras por otro nodo, etc. Las particiones normalmente se crean en automático.\n",
        "\n",
        "### Lazy Evaluation\n",
        "\n",
        "Además, Spark no ejecuta las tareas de inmediato. En realidad, se espera a tener un grupo de tareas y se espera hasta que estas realmente tengan que ser ejecutadas (por ejemplo, al mandar a guardar un output), para empezar el procesamiento.\n",
        "\n",
        "Esto lo hace porque se espera a tener un set de instrucciones y así poder optimizarlas."
      ],
      "metadata": {
        "id": "YbOTqZ5KSrvU"
      }
    },
    {
      "cell_type": "markdown",
      "source": [
        "### Iniciar un programa con Spark\n",
        "\n",
        "Para empezar a trabajar con Spark, necesitamos forzosamente crear una SparkSession. Además, si no lo hemos hecho ya, es necesario installar e importar la librería `pyspark`.\n",
        "\n"
      ],
      "metadata": {
        "id": "83i9fVOYeIFV"
      }
    },
    {
      "cell_type": "code",
      "source": [
        "!pip install pyspark==3.4.0"
      ],
      "metadata": {
        "colab": {
          "base_uri": "https://localhost:8080/"
        },
        "id": "q_D_a4emeeSP",
        "outputId": "67dcb3f3-39c7-43ca-e85f-177cd386a1b5"
      },
      "execution_count": 1,
      "outputs": [
        {
          "output_type": "stream",
          "name": "stdout",
          "text": [
            "Collecting pyspark==3.4.0\n",
            "  Downloading pyspark-3.4.0.tar.gz (310.8 MB)\n",
            "\u001b[2K     \u001b[90m━━━━━━━━━━━━━━━━━━━━━━━━━━━━━━━━━━━━━━━━\u001b[0m \u001b[32m310.8/310.8 MB\u001b[0m \u001b[31m4.0 MB/s\u001b[0m eta \u001b[36m0:00:00\u001b[0m\n",
            "\u001b[?25h  Preparing metadata (setup.py) ... \u001b[?25l\u001b[?25hdone\n",
            "Requirement already satisfied: py4j==0.10.9.7 in /usr/local/lib/python3.10/dist-packages (from pyspark==3.4.0) (0.10.9.7)\n",
            "Building wheels for collected packages: pyspark\n",
            "  Building wheel for pyspark (setup.py) ... \u001b[?25l\u001b[?25hdone\n",
            "  Created wheel for pyspark: filename=pyspark-3.4.0-py2.py3-none-any.whl size=311317123 sha256=8179f26b7639dac9eaa0c799a8cfb5ba68acce53dd081a880dc16938b887c70b\n",
            "  Stored in directory: /root/.cache/pip/wheels/7b/1b/4b/3363a1d04368e7ff0d408e57ff57966fcdf00583774e761327\n",
            "Successfully built pyspark\n",
            "Installing collected packages: pyspark\n",
            "  Attempting uninstall: pyspark\n",
            "    Found existing installation: pyspark 3.5.3\n",
            "    Uninstalling pyspark-3.5.3:\n",
            "      Successfully uninstalled pyspark-3.5.3\n",
            "Successfully installed pyspark-3.4.0\n"
          ]
        }
      ]
    },
    {
      "cell_type": "code",
      "source": [
        "from pyspark.sql import SparkSession\n",
        "spark = SparkSession.builder.master(\"local[*]\").getOrCreate()\n",
        "spark"
      ],
      "metadata": {
        "colab": {
          "base_uri": "https://localhost:8080/",
          "height": 222
        },
        "id": "tUQv3yP_ekQQ",
        "outputId": "59fbf4d3-817f-44e1-81db-6e0c0b6dd0ab"
      },
      "execution_count": 10,
      "outputs": [
        {
          "output_type": "execute_result",
          "data": {
            "text/plain": [
              "<pyspark.sql.session.SparkSession at 0x7f7e80d94b50>"
            ],
            "text/html": [
              "\n",
              "            <div>\n",
              "                <p><b>SparkSession - in-memory</b></p>\n",
              "                \n",
              "        <div>\n",
              "            <p><b>SparkContext</b></p>\n",
              "\n",
              "            <p><a href=\"http://b8f0b53ca580:4040\">Spark UI</a></p>\n",
              "\n",
              "            <dl>\n",
              "              <dt>Version</dt>\n",
              "                <dd><code>v3.4.0</code></dd>\n",
              "              <dt>Master</dt>\n",
              "                <dd><code>local[*]</code></dd>\n",
              "              <dt>AppName</dt>\n",
              "                <dd><code>pyspark-shell</code></dd>\n",
              "            </dl>\n",
              "        </div>\n",
              "        \n",
              "            </div>\n",
              "        "
            ]
          },
          "metadata": {},
          "execution_count": 10
        }
      ]
    },
    {
      "cell_type": "markdown",
      "source": [
        "Vamos a trabajar con datos del Covid-19 en México. Revísalos y descárgalos de la siguiente página web:\n",
        "\n",
        "https://www.kaggle.com/datasets/tavoglc/covid19-data-from-mexico?resource=download"
      ],
      "metadata": {
        "id": "W98URV76_oEW"
      }
    },
    {
      "cell_type": "code",
      "source": [
        "df = spark.read.csv('covidmex.csv',header=True)\n",
        "df.show(5)"
      ],
      "metadata": {
        "id": "ZCo9idB7-pKp",
        "outputId": "8ab1b0f2-6371-4b0e-8de8-c78df763c4a6",
        "colab": {
          "base_uri": "https://localhost:8080/"
        }
      },
      "execution_count": 24,
      "outputs": [
        {
          "output_type": "stream",
          "name": "stdout",
          "text": [
            "+-----------+-----------+-------------+-------------+--------------+------+-----+------------------+-------------------+------------------+--------------------+---------+------------------+\n",
            "|ID_REGISTRO|ENTIDAD_RES|MUNICIPIO_RES|FECHA_INGRESO|FECHA_SINTOMAS|covidt|delta|               lat|               long|               alt|                 qry|dayofyear|       lengthofday|\n",
            "+-----------+-----------+-------------+-------------+--------------+------+-----+------------------+-------------------+------------------+--------------------+---------+------------------+\n",
            "|     z526b3|          9|           12|   2020-12-21|    2020-12-18|     1|    3| 19.20155345588235| -99.20180252450989|3008.9460784313724|Cve_Ent==9 & Cve_...|      356|11.768371962176587|\n",
            "|     z3d1e2|          9|            5|   2020-04-22|    2020-04-20|     1|    2|         19.482945|         -99.113471|            2229.0|Cve_Ent==9 & Cve_...|      113|13.441805501598786|\n",
            "|     z21f6f|          7|            9|   2020-04-27|    2020-04-24|     1|    3| 16.21599257359306| -93.93758461688306| 83.17316017316017|Cve_Ent==7 & Cve_...|      118|13.399116765412083|\n",
            "|     zz9040|         19|           45|   2020-09-06|    2020-09-03|     1|    3| 26.06980561012655|-100.27776220506335| 486.4253164556962|Cve_Ent==19 & Cve...|      250|13.288478608721755|\n",
            "|     z21c58|         19|           26|   2020-07-10|    2020-07-06|     1|    4|25.679631916666665|-100.16954308333334|            551.75|Cve_Ent==19 & Cve...|      192|14.507914985048014|\n",
            "+-----------+-----------+-------------+-------------+--------------+------+-----+------------------+-------------------+------------------+--------------------+---------+------------------+\n",
            "only showing top 5 rows\n",
            "\n"
          ]
        }
      ]
    },
    {
      "cell_type": "markdown",
      "source": [
        "### Análisis exploratorio usando SparkDataFrames\n",
        "\n",
        "Manipular datos y hacer cálculos a veces es similar, pero normalmente es distinto a como lo haríamos en Pandas. De hecho, ya viste una diferencia: el uso del método `.show(n)`\n",
        "\n",
        "Otras diferencias son:"
      ],
      "metadata": {
        "id": "bSK_lICj_yfN"
      }
    },
    {
      "cell_type": "code",
      "source": [
        "# Conocer la dimension de mi DataFrame\n",
        "\n",
        "print((df.count(), len(df.columns)))"
      ],
      "metadata": {
        "id": "cWqo7wA6-oV8",
        "outputId": "c348e1ed-0337-4f71-9622-2e787aaa79d7",
        "colab": {
          "base_uri": "https://localhost:8080/"
        }
      },
      "execution_count": 12,
      "outputs": [
        {
          "output_type": "stream",
          "name": "stdout",
          "text": [
            "(5723141, 13)\n"
          ]
        }
      ]
    },
    {
      "cell_type": "code",
      "source": [
        "# ¿Qué tipos de datos tengo?\n",
        "\n",
        "df.printSchema()"
      ],
      "metadata": {
        "id": "kzY1ooW8CSwK",
        "outputId": "38f46110-a3c1-4c8a-c372-a9b56335799a",
        "colab": {
          "base_uri": "https://localhost:8080/"
        }
      },
      "execution_count": 13,
      "outputs": [
        {
          "output_type": "stream",
          "name": "stdout",
          "text": [
            "root\n",
            " |-- ID_REGISTRO: string (nullable = true)\n",
            " |-- ENTIDAD_RES: string (nullable = true)\n",
            " |-- MUNICIPIO_RES: string (nullable = true)\n",
            " |-- FECHA_INGRESO: string (nullable = true)\n",
            " |-- FECHA_SINTOMAS: string (nullable = true)\n",
            " |-- covidt: string (nullable = true)\n",
            " |-- delta: string (nullable = true)\n",
            " |-- lat: string (nullable = true)\n",
            " |-- long: string (nullable = true)\n",
            " |-- alt: string (nullable = true)\n",
            " |-- qry: string (nullable = true)\n",
            " |-- dayofyear: string (nullable = true)\n",
            " |-- lengthofday: string (nullable = true)\n",
            "\n"
          ]
        }
      ]
    },
    {
      "cell_type": "markdown",
      "source": [
        "### Tarea\n",
        "\n",
        "Aplica los cambios siguientes:\n",
        "1. Modifica tu DataFrame: agrega una columna nueva llamada \"PAIS\", en donde todas las hileras tendrán el valor \"Mexico\".\n",
        "\n",
        "2. Elimina la columna *lengthofday* de tu DataFrame.\n",
        "\n",
        "3. Crea un nuevo DataFrame, llamado `ubicacion`, que tendrá solamente los valores de *lat*, *lon*, *ENTIDAD_RES* y *PAIS* de `df`.\n",
        "\n",
        "4. Filtra la columna *ENTIDAD_RES* dentro de `ubicacion` para quedarte con solo los valores = 9 (Ciudad de México). Guarda el resultado en un DataFrame llamado `cdmx`\n",
        "\n",
        "5. Selecciona los primeros 5 valores de `cdmx` y guárdalos como un DataFrame de Pandas, con el nombre *df_pandas*.\n",
        "\n",
        "####Tip\n",
        "Métodos y Funciones que podrían servirte:\n",
        "\n",
        "- .select()\n",
        "- .drop()\n",
        "- .withcolumn()\n",
        "- lit()\n",
        "- .filter()\n",
        "- .limit()\n",
        "- toPandas()\n",
        "\n"
      ],
      "metadata": {
        "id": "qkRh-aKEAvnT"
      }
    },
    {
      "cell_type": "markdown",
      "source": [
        "## 1"
      ],
      "metadata": {
        "id": "5h_O01pz96TT"
      }
    },
    {
      "cell_type": "code",
      "source": [
        "from pyspark.sql.functions import lit\n",
        "\n",
        "df = df.withColumn(\"PAIS\", lit(\"Mexico\"))\n",
        "df.show(5)\n"
      ],
      "metadata": {
        "id": "gfIDyIVp99Ca",
        "outputId": "32c0e9bd-3cfd-4b9a-a55a-2aa7b4038476",
        "colab": {
          "base_uri": "https://localhost:8080/"
        }
      },
      "execution_count": 25,
      "outputs": [
        {
          "output_type": "stream",
          "name": "stdout",
          "text": [
            "+-----------+-----------+-------------+-------------+--------------+------+-----+------------------+-------------------+------------------+--------------------+---------+------------------+------+\n",
            "|ID_REGISTRO|ENTIDAD_RES|MUNICIPIO_RES|FECHA_INGRESO|FECHA_SINTOMAS|covidt|delta|               lat|               long|               alt|                 qry|dayofyear|       lengthofday|  PAIS|\n",
            "+-----------+-----------+-------------+-------------+--------------+------+-----+------------------+-------------------+------------------+--------------------+---------+------------------+------+\n",
            "|     z526b3|          9|           12|   2020-12-21|    2020-12-18|     1|    3| 19.20155345588235| -99.20180252450989|3008.9460784313724|Cve_Ent==9 & Cve_...|      356|11.768371962176587|Mexico|\n",
            "|     z3d1e2|          9|            5|   2020-04-22|    2020-04-20|     1|    2|         19.482945|         -99.113471|            2229.0|Cve_Ent==9 & Cve_...|      113|13.441805501598786|Mexico|\n",
            "|     z21f6f|          7|            9|   2020-04-27|    2020-04-24|     1|    3| 16.21599257359306| -93.93758461688306| 83.17316017316017|Cve_Ent==7 & Cve_...|      118|13.399116765412083|Mexico|\n",
            "|     zz9040|         19|           45|   2020-09-06|    2020-09-03|     1|    3| 26.06980561012655|-100.27776220506335| 486.4253164556962|Cve_Ent==19 & Cve...|      250|13.288478608721755|Mexico|\n",
            "|     z21c58|         19|           26|   2020-07-10|    2020-07-06|     1|    4|25.679631916666665|-100.16954308333334|            551.75|Cve_Ent==19 & Cve...|      192|14.507914985048014|Mexico|\n",
            "+-----------+-----------+-------------+-------------+--------------+------+-----+------------------+-------------------+------------------+--------------------+---------+------------------+------+\n",
            "only showing top 5 rows\n",
            "\n"
          ]
        }
      ]
    },
    {
      "cell_type": "markdown",
      "source": [
        "## 2"
      ],
      "metadata": {
        "id": "KfBO_6KK-qW_"
      }
    },
    {
      "cell_type": "code",
      "source": [
        "df=df.drop(\"lengthofday\")\n",
        "df.show(5)"
      ],
      "metadata": {
        "id": "B1lKev5H-sgX",
        "outputId": "e8b5f3bb-3f6b-4d13-9fcc-7888a8d5f315",
        "colab": {
          "base_uri": "https://localhost:8080/"
        }
      },
      "execution_count": 26,
      "outputs": [
        {
          "output_type": "stream",
          "name": "stdout",
          "text": [
            "+-----------+-----------+-------------+-------------+--------------+------+-----+------------------+-------------------+------------------+--------------------+---------+------+\n",
            "|ID_REGISTRO|ENTIDAD_RES|MUNICIPIO_RES|FECHA_INGRESO|FECHA_SINTOMAS|covidt|delta|               lat|               long|               alt|                 qry|dayofyear|  PAIS|\n",
            "+-----------+-----------+-------------+-------------+--------------+------+-----+------------------+-------------------+------------------+--------------------+---------+------+\n",
            "|     z526b3|          9|           12|   2020-12-21|    2020-12-18|     1|    3| 19.20155345588235| -99.20180252450989|3008.9460784313724|Cve_Ent==9 & Cve_...|      356|Mexico|\n",
            "|     z3d1e2|          9|            5|   2020-04-22|    2020-04-20|     1|    2|         19.482945|         -99.113471|            2229.0|Cve_Ent==9 & Cve_...|      113|Mexico|\n",
            "|     z21f6f|          7|            9|   2020-04-27|    2020-04-24|     1|    3| 16.21599257359306| -93.93758461688306| 83.17316017316017|Cve_Ent==7 & Cve_...|      118|Mexico|\n",
            "|     zz9040|         19|           45|   2020-09-06|    2020-09-03|     1|    3| 26.06980561012655|-100.27776220506335| 486.4253164556962|Cve_Ent==19 & Cve...|      250|Mexico|\n",
            "|     z21c58|         19|           26|   2020-07-10|    2020-07-06|     1|    4|25.679631916666665|-100.16954308333334|            551.75|Cve_Ent==19 & Cve...|      192|Mexico|\n",
            "+-----------+-----------+-------------+-------------+--------------+------+-----+------------------+-------------------+------------------+--------------------+---------+------+\n",
            "only showing top 5 rows\n",
            "\n"
          ]
        }
      ]
    },
    {
      "cell_type": "markdown",
      "source": [
        "## 3"
      ],
      "metadata": {
        "id": "nwUdhbSO__Z-"
      }
    },
    {
      "cell_type": "code",
      "source": [
        "ubicacion = df.select(\"lat\", \"long\", \"ENTIDAD_RES\", \"PAIS\")\n",
        "ubicacion.show(5)"
      ],
      "metadata": {
        "id": "MVY5XRSu_-8b",
        "outputId": "27b67775-567e-4513-fea5-e005d2bd8017",
        "colab": {
          "base_uri": "https://localhost:8080/"
        }
      },
      "execution_count": 28,
      "outputs": [
        {
          "output_type": "stream",
          "name": "stdout",
          "text": [
            "+------------------+-------------------+-----------+------+\n",
            "|               lat|               long|ENTIDAD_RES|  PAIS|\n",
            "+------------------+-------------------+-----------+------+\n",
            "| 19.20155345588235| -99.20180252450989|          9|Mexico|\n",
            "|         19.482945|         -99.113471|          9|Mexico|\n",
            "| 16.21599257359306| -93.93758461688306|          7|Mexico|\n",
            "| 26.06980561012655|-100.27776220506335|         19|Mexico|\n",
            "|25.679631916666665|-100.16954308333334|         19|Mexico|\n",
            "+------------------+-------------------+-----------+------+\n",
            "only showing top 5 rows\n",
            "\n"
          ]
        }
      ]
    },
    {
      "cell_type": "markdown",
      "source": [
        "## 4"
      ],
      "metadata": {
        "id": "lnjGMsC2AhG_"
      }
    },
    {
      "cell_type": "code",
      "source": [
        "cdmx=ubicacion.filter(ubicacion.ENTIDAD_RES == 9)\n",
        "cdmx.show(5)\n"
      ],
      "metadata": {
        "id": "E2YVzOVzAh91",
        "outputId": "d1998dbd-36af-47c9-d710-10cf8c376cfc",
        "colab": {
          "base_uri": "https://localhost:8080/"
        }
      },
      "execution_count": 29,
      "outputs": [
        {
          "output_type": "stream",
          "name": "stdout",
          "text": [
            "+-----------------+------------------+-----------+------+\n",
            "|              lat|              long|ENTIDAD_RES|  PAIS|\n",
            "+-----------------+------------------+-----------+------+\n",
            "|19.20155345588235|-99.20180252450989|          9|Mexico|\n",
            "|        19.482945|        -99.113471|          9|Mexico|\n",
            "|        19.359004|        -99.092623|          9|Mexico|\n",
            "|        19.395901|        -99.097613|          9|Mexico|\n",
            "|19.20155345588235|-99.20180252450989|          9|Mexico|\n",
            "+-----------------+------------------+-----------+------+\n",
            "only showing top 5 rows\n",
            "\n"
          ]
        }
      ]
    },
    {
      "cell_type": "markdown",
      "source": [
        "## 5"
      ],
      "metadata": {
        "id": "lccPV5rrAtyt"
      }
    },
    {
      "cell_type": "code",
      "source": [
        "df_pandas=cdmx.limit(5).toPandas()\n",
        "df_pandas"
      ],
      "metadata": {
        "id": "Vx6li4cKAu6q",
        "outputId": "b73962f3-1d9c-4bdf-dfa1-f9322e526ecd",
        "colab": {
          "base_uri": "https://localhost:8080/",
          "height": 206
        }
      },
      "execution_count": 30,
      "outputs": [
        {
          "output_type": "execute_result",
          "data": {
            "text/plain": [
              "                 lat                long ENTIDAD_RES    PAIS\n",
              "0  19.20155345588235  -99.20180252450989           9  Mexico\n",
              "1          19.482945          -99.113471           9  Mexico\n",
              "2          19.359004          -99.092623           9  Mexico\n",
              "3          19.395901          -99.097613           9  Mexico\n",
              "4  19.20155345588235  -99.20180252450989           9  Mexico"
            ],
            "text/html": [
              "\n",
              "  <div id=\"df-e73acffd-efe5-4206-a614-6df3fe1e7db8\" class=\"colab-df-container\">\n",
              "    <div>\n",
              "<style scoped>\n",
              "    .dataframe tbody tr th:only-of-type {\n",
              "        vertical-align: middle;\n",
              "    }\n",
              "\n",
              "    .dataframe tbody tr th {\n",
              "        vertical-align: top;\n",
              "    }\n",
              "\n",
              "    .dataframe thead th {\n",
              "        text-align: right;\n",
              "    }\n",
              "</style>\n",
              "<table border=\"1\" class=\"dataframe\">\n",
              "  <thead>\n",
              "    <tr style=\"text-align: right;\">\n",
              "      <th></th>\n",
              "      <th>lat</th>\n",
              "      <th>long</th>\n",
              "      <th>ENTIDAD_RES</th>\n",
              "      <th>PAIS</th>\n",
              "    </tr>\n",
              "  </thead>\n",
              "  <tbody>\n",
              "    <tr>\n",
              "      <th>0</th>\n",
              "      <td>19.20155345588235</td>\n",
              "      <td>-99.20180252450989</td>\n",
              "      <td>9</td>\n",
              "      <td>Mexico</td>\n",
              "    </tr>\n",
              "    <tr>\n",
              "      <th>1</th>\n",
              "      <td>19.482945</td>\n",
              "      <td>-99.113471</td>\n",
              "      <td>9</td>\n",
              "      <td>Mexico</td>\n",
              "    </tr>\n",
              "    <tr>\n",
              "      <th>2</th>\n",
              "      <td>19.359004</td>\n",
              "      <td>-99.092623</td>\n",
              "      <td>9</td>\n",
              "      <td>Mexico</td>\n",
              "    </tr>\n",
              "    <tr>\n",
              "      <th>3</th>\n",
              "      <td>19.395901</td>\n",
              "      <td>-99.097613</td>\n",
              "      <td>9</td>\n",
              "      <td>Mexico</td>\n",
              "    </tr>\n",
              "    <tr>\n",
              "      <th>4</th>\n",
              "      <td>19.20155345588235</td>\n",
              "      <td>-99.20180252450989</td>\n",
              "      <td>9</td>\n",
              "      <td>Mexico</td>\n",
              "    </tr>\n",
              "  </tbody>\n",
              "</table>\n",
              "</div>\n",
              "    <div class=\"colab-df-buttons\">\n",
              "\n",
              "  <div class=\"colab-df-container\">\n",
              "    <button class=\"colab-df-convert\" onclick=\"convertToInteractive('df-e73acffd-efe5-4206-a614-6df3fe1e7db8')\"\n",
              "            title=\"Convert this dataframe to an interactive table.\"\n",
              "            style=\"display:none;\">\n",
              "\n",
              "  <svg xmlns=\"http://www.w3.org/2000/svg\" height=\"24px\" viewBox=\"0 -960 960 960\">\n",
              "    <path d=\"M120-120v-720h720v720H120Zm60-500h600v-160H180v160Zm220 220h160v-160H400v160Zm0 220h160v-160H400v160ZM180-400h160v-160H180v160Zm440 0h160v-160H620v160ZM180-180h160v-160H180v160Zm440 0h160v-160H620v160Z\"/>\n",
              "  </svg>\n",
              "    </button>\n",
              "\n",
              "  <style>\n",
              "    .colab-df-container {\n",
              "      display:flex;\n",
              "      gap: 12px;\n",
              "    }\n",
              "\n",
              "    .colab-df-convert {\n",
              "      background-color: #E8F0FE;\n",
              "      border: none;\n",
              "      border-radius: 50%;\n",
              "      cursor: pointer;\n",
              "      display: none;\n",
              "      fill: #1967D2;\n",
              "      height: 32px;\n",
              "      padding: 0 0 0 0;\n",
              "      width: 32px;\n",
              "    }\n",
              "\n",
              "    .colab-df-convert:hover {\n",
              "      background-color: #E2EBFA;\n",
              "      box-shadow: 0px 1px 2px rgba(60, 64, 67, 0.3), 0px 1px 3px 1px rgba(60, 64, 67, 0.15);\n",
              "      fill: #174EA6;\n",
              "    }\n",
              "\n",
              "    .colab-df-buttons div {\n",
              "      margin-bottom: 4px;\n",
              "    }\n",
              "\n",
              "    [theme=dark] .colab-df-convert {\n",
              "      background-color: #3B4455;\n",
              "      fill: #D2E3FC;\n",
              "    }\n",
              "\n",
              "    [theme=dark] .colab-df-convert:hover {\n",
              "      background-color: #434B5C;\n",
              "      box-shadow: 0px 1px 3px 1px rgba(0, 0, 0, 0.15);\n",
              "      filter: drop-shadow(0px 1px 2px rgba(0, 0, 0, 0.3));\n",
              "      fill: #FFFFFF;\n",
              "    }\n",
              "  </style>\n",
              "\n",
              "    <script>\n",
              "      const buttonEl =\n",
              "        document.querySelector('#df-e73acffd-efe5-4206-a614-6df3fe1e7db8 button.colab-df-convert');\n",
              "      buttonEl.style.display =\n",
              "        google.colab.kernel.accessAllowed ? 'block' : 'none';\n",
              "\n",
              "      async function convertToInteractive(key) {\n",
              "        const element = document.querySelector('#df-e73acffd-efe5-4206-a614-6df3fe1e7db8');\n",
              "        const dataTable =\n",
              "          await google.colab.kernel.invokeFunction('convertToInteractive',\n",
              "                                                    [key], {});\n",
              "        if (!dataTable) return;\n",
              "\n",
              "        const docLinkHtml = 'Like what you see? Visit the ' +\n",
              "          '<a target=\"_blank\" href=https://colab.research.google.com/notebooks/data_table.ipynb>data table notebook</a>'\n",
              "          + ' to learn more about interactive tables.';\n",
              "        element.innerHTML = '';\n",
              "        dataTable['output_type'] = 'display_data';\n",
              "        await google.colab.output.renderOutput(dataTable, element);\n",
              "        const docLink = document.createElement('div');\n",
              "        docLink.innerHTML = docLinkHtml;\n",
              "        element.appendChild(docLink);\n",
              "      }\n",
              "    </script>\n",
              "  </div>\n",
              "\n",
              "\n",
              "<div id=\"df-1c07efeb-e50d-459a-b927-f71204808656\">\n",
              "  <button class=\"colab-df-quickchart\" onclick=\"quickchart('df-1c07efeb-e50d-459a-b927-f71204808656')\"\n",
              "            title=\"Suggest charts\"\n",
              "            style=\"display:none;\">\n",
              "\n",
              "<svg xmlns=\"http://www.w3.org/2000/svg\" height=\"24px\"viewBox=\"0 0 24 24\"\n",
              "     width=\"24px\">\n",
              "    <g>\n",
              "        <path d=\"M19 3H5c-1.1 0-2 .9-2 2v14c0 1.1.9 2 2 2h14c1.1 0 2-.9 2-2V5c0-1.1-.9-2-2-2zM9 17H7v-7h2v7zm4 0h-2V7h2v10zm4 0h-2v-4h2v4z\"/>\n",
              "    </g>\n",
              "</svg>\n",
              "  </button>\n",
              "\n",
              "<style>\n",
              "  .colab-df-quickchart {\n",
              "      --bg-color: #E8F0FE;\n",
              "      --fill-color: #1967D2;\n",
              "      --hover-bg-color: #E2EBFA;\n",
              "      --hover-fill-color: #174EA6;\n",
              "      --disabled-fill-color: #AAA;\n",
              "      --disabled-bg-color: #DDD;\n",
              "  }\n",
              "\n",
              "  [theme=dark] .colab-df-quickchart {\n",
              "      --bg-color: #3B4455;\n",
              "      --fill-color: #D2E3FC;\n",
              "      --hover-bg-color: #434B5C;\n",
              "      --hover-fill-color: #FFFFFF;\n",
              "      --disabled-bg-color: #3B4455;\n",
              "      --disabled-fill-color: #666;\n",
              "  }\n",
              "\n",
              "  .colab-df-quickchart {\n",
              "    background-color: var(--bg-color);\n",
              "    border: none;\n",
              "    border-radius: 50%;\n",
              "    cursor: pointer;\n",
              "    display: none;\n",
              "    fill: var(--fill-color);\n",
              "    height: 32px;\n",
              "    padding: 0;\n",
              "    width: 32px;\n",
              "  }\n",
              "\n",
              "  .colab-df-quickchart:hover {\n",
              "    background-color: var(--hover-bg-color);\n",
              "    box-shadow: 0 1px 2px rgba(60, 64, 67, 0.3), 0 1px 3px 1px rgba(60, 64, 67, 0.15);\n",
              "    fill: var(--button-hover-fill-color);\n",
              "  }\n",
              "\n",
              "  .colab-df-quickchart-complete:disabled,\n",
              "  .colab-df-quickchart-complete:disabled:hover {\n",
              "    background-color: var(--disabled-bg-color);\n",
              "    fill: var(--disabled-fill-color);\n",
              "    box-shadow: none;\n",
              "  }\n",
              "\n",
              "  .colab-df-spinner {\n",
              "    border: 2px solid var(--fill-color);\n",
              "    border-color: transparent;\n",
              "    border-bottom-color: var(--fill-color);\n",
              "    animation:\n",
              "      spin 1s steps(1) infinite;\n",
              "  }\n",
              "\n",
              "  @keyframes spin {\n",
              "    0% {\n",
              "      border-color: transparent;\n",
              "      border-bottom-color: var(--fill-color);\n",
              "      border-left-color: var(--fill-color);\n",
              "    }\n",
              "    20% {\n",
              "      border-color: transparent;\n",
              "      border-left-color: var(--fill-color);\n",
              "      border-top-color: var(--fill-color);\n",
              "    }\n",
              "    30% {\n",
              "      border-color: transparent;\n",
              "      border-left-color: var(--fill-color);\n",
              "      border-top-color: var(--fill-color);\n",
              "      border-right-color: var(--fill-color);\n",
              "    }\n",
              "    40% {\n",
              "      border-color: transparent;\n",
              "      border-right-color: var(--fill-color);\n",
              "      border-top-color: var(--fill-color);\n",
              "    }\n",
              "    60% {\n",
              "      border-color: transparent;\n",
              "      border-right-color: var(--fill-color);\n",
              "    }\n",
              "    80% {\n",
              "      border-color: transparent;\n",
              "      border-right-color: var(--fill-color);\n",
              "      border-bottom-color: var(--fill-color);\n",
              "    }\n",
              "    90% {\n",
              "      border-color: transparent;\n",
              "      border-bottom-color: var(--fill-color);\n",
              "    }\n",
              "  }\n",
              "</style>\n",
              "\n",
              "  <script>\n",
              "    async function quickchart(key) {\n",
              "      const quickchartButtonEl =\n",
              "        document.querySelector('#' + key + ' button');\n",
              "      quickchartButtonEl.disabled = true;  // To prevent multiple clicks.\n",
              "      quickchartButtonEl.classList.add('colab-df-spinner');\n",
              "      try {\n",
              "        const charts = await google.colab.kernel.invokeFunction(\n",
              "            'suggestCharts', [key], {});\n",
              "      } catch (error) {\n",
              "        console.error('Error during call to suggestCharts:', error);\n",
              "      }\n",
              "      quickchartButtonEl.classList.remove('colab-df-spinner');\n",
              "      quickchartButtonEl.classList.add('colab-df-quickchart-complete');\n",
              "    }\n",
              "    (() => {\n",
              "      let quickchartButtonEl =\n",
              "        document.querySelector('#df-1c07efeb-e50d-459a-b927-f71204808656 button');\n",
              "      quickchartButtonEl.style.display =\n",
              "        google.colab.kernel.accessAllowed ? 'block' : 'none';\n",
              "    })();\n",
              "  </script>\n",
              "</div>\n",
              "\n",
              "  <div id=\"id_a449f942-6b2b-4f63-b388-1c2a46d22df4\">\n",
              "    <style>\n",
              "      .colab-df-generate {\n",
              "        background-color: #E8F0FE;\n",
              "        border: none;\n",
              "        border-radius: 50%;\n",
              "        cursor: pointer;\n",
              "        display: none;\n",
              "        fill: #1967D2;\n",
              "        height: 32px;\n",
              "        padding: 0 0 0 0;\n",
              "        width: 32px;\n",
              "      }\n",
              "\n",
              "      .colab-df-generate:hover {\n",
              "        background-color: #E2EBFA;\n",
              "        box-shadow: 0px 1px 2px rgba(60, 64, 67, 0.3), 0px 1px 3px 1px rgba(60, 64, 67, 0.15);\n",
              "        fill: #174EA6;\n",
              "      }\n",
              "\n",
              "      [theme=dark] .colab-df-generate {\n",
              "        background-color: #3B4455;\n",
              "        fill: #D2E3FC;\n",
              "      }\n",
              "\n",
              "      [theme=dark] .colab-df-generate:hover {\n",
              "        background-color: #434B5C;\n",
              "        box-shadow: 0px 1px 3px 1px rgba(0, 0, 0, 0.15);\n",
              "        filter: drop-shadow(0px 1px 2px rgba(0, 0, 0, 0.3));\n",
              "        fill: #FFFFFF;\n",
              "      }\n",
              "    </style>\n",
              "    <button class=\"colab-df-generate\" onclick=\"generateWithVariable('df_pandas')\"\n",
              "            title=\"Generate code using this dataframe.\"\n",
              "            style=\"display:none;\">\n",
              "\n",
              "  <svg xmlns=\"http://www.w3.org/2000/svg\" height=\"24px\"viewBox=\"0 0 24 24\"\n",
              "       width=\"24px\">\n",
              "    <path d=\"M7,19H8.4L18.45,9,17,7.55,7,17.6ZM5,21V16.75L18.45,3.32a2,2,0,0,1,2.83,0l1.4,1.43a1.91,1.91,0,0,1,.58,1.4,1.91,1.91,0,0,1-.58,1.4L9.25,21ZM18.45,9,17,7.55Zm-12,3A5.31,5.31,0,0,0,4.9,8.1,5.31,5.31,0,0,0,1,6.5,5.31,5.31,0,0,0,4.9,4.9,5.31,5.31,0,0,0,6.5,1,5.31,5.31,0,0,0,8.1,4.9,5.31,5.31,0,0,0,12,6.5,5.46,5.46,0,0,0,6.5,12Z\"/>\n",
              "  </svg>\n",
              "    </button>\n",
              "    <script>\n",
              "      (() => {\n",
              "      const buttonEl =\n",
              "        document.querySelector('#id_a449f942-6b2b-4f63-b388-1c2a46d22df4 button.colab-df-generate');\n",
              "      buttonEl.style.display =\n",
              "        google.colab.kernel.accessAllowed ? 'block' : 'none';\n",
              "\n",
              "      buttonEl.onclick = () => {\n",
              "        google.colab.notebook.generateWithVariable('df_pandas');\n",
              "      }\n",
              "      })();\n",
              "    </script>\n",
              "  </div>\n",
              "\n",
              "    </div>\n",
              "  </div>\n"
            ],
            "application/vnd.google.colaboratory.intrinsic+json": {
              "type": "dataframe",
              "variable_name": "df_pandas",
              "summary": "{\n  \"name\": \"df_pandas\",\n  \"rows\": 5,\n  \"fields\": [\n    {\n      \"column\": \"lat\",\n      \"properties\": {\n        \"dtype\": \"string\",\n        \"num_unique_values\": 4,\n        \"samples\": [\n          \"19.482945\",\n          \"19.395901\",\n          \"19.20155345588235\"\n        ],\n        \"semantic_type\": \"\",\n        \"description\": \"\"\n      }\n    },\n    {\n      \"column\": \"long\",\n      \"properties\": {\n        \"dtype\": \"string\",\n        \"num_unique_values\": 4,\n        \"samples\": [\n          \"-99.113471\",\n          \"-99.097613\",\n          \"-99.20180252450989\"\n        ],\n        \"semantic_type\": \"\",\n        \"description\": \"\"\n      }\n    },\n    {\n      \"column\": \"ENTIDAD_RES\",\n      \"properties\": {\n        \"dtype\": \"category\",\n        \"num_unique_values\": 1,\n        \"samples\": [\n          \"9\"\n        ],\n        \"semantic_type\": \"\",\n        \"description\": \"\"\n      }\n    },\n    {\n      \"column\": \"PAIS\",\n      \"properties\": {\n        \"dtype\": \"category\",\n        \"num_unique_values\": 1,\n        \"samples\": [\n          \"Mexico\"\n        ],\n        \"semantic_type\": \"\",\n        \"description\": \"\"\n      }\n    }\n  ]\n}"
            }
          },
          "metadata": {},
          "execution_count": 30
        }
      ]
    }
  ],
  "metadata": {
    "colab": {
      "provenance": []
    },
    "kernelspec": {
      "display_name": "Python 3",
      "name": "python3"
    },
    "language_info": {
      "name": "python"
    }
  },
  "nbformat": 4,
  "nbformat_minor": 0
}